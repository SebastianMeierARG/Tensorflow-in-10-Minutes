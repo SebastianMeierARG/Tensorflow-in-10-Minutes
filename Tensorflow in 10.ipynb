{
 "cells": [
  {
   "cell_type": "markdown",
   "metadata": {},
   "source": [
    "# 0. Import Data"
   ]
  },
  {
   "cell_type": "code",
   "execution_count": 1,
   "metadata": {},
   "outputs": [],
   "source": [
    "import pandas as pd\n",
    "from sklearn.model_selection import train_test_split"
   ]
  },
  {
   "cell_type": "code",
   "execution_count": 2,
   "metadata": {},
   "outputs": [],
   "source": [
    "df = pd.read_csv('Churn.csv')"
   ]
  },
  {
   "cell_type": "code",
   "execution_count": 3,
   "metadata": {},
   "outputs": [],
   "source": [
    "X = df.drop(['Churn', 'Customer ID'], axis=1)"
   ]
  },
  {
   "cell_type": "code",
   "execution_count": 4,
   "metadata": {},
   "outputs": [],
   "source": [
    "X =  pd.get_dummies(X, drop_first=True).replace({False: 0, True: 1})\n",
    "y = df['Churn'].apply(lambda x: 1 if x=='Yes' else 0)"
   ]
  },
  {
   "cell_type": "code",
   "execution_count": 5,
   "metadata": {},
   "outputs": [],
   "source": [
    "X_train, X_test, y_train, y_test = train_test_split(X, y, test_size=.2)"
   ]
  },
  {
   "cell_type": "code",
   "execution_count": 6,
   "metadata": {},
   "outputs": [
    {
     "data": {
      "text/plain": [
       "6829    0\n",
       "537     0\n",
       "974     1\n",
       "6839    1\n",
       "159     0\n",
       "Name: Churn, dtype: int64"
      ]
     },
     "execution_count": 6,
     "metadata": {},
     "output_type": "execute_result"
    }
   ],
   "source": [
    "y_train.head()"
   ]
  },
  {
   "cell_type": "markdown",
   "metadata": {},
   "source": [
    "# 1. Import Dependencies"
   ]
  },
  {
   "cell_type": "code",
   "execution_count": 7,
   "metadata": {},
   "outputs": [
    {
     "name": "stderr",
     "output_type": "stream",
     "text": [
      "2023-10-11 19:07:23.652344: I tensorflow/tsl/cuda/cudart_stub.cc:28] Could not find cuda drivers on your machine, GPU will not be used.\n",
      "2023-10-11 19:07:25.080266: E tensorflow/compiler/xla/stream_executor/cuda/cuda_dnn.cc:9342] Unable to register cuDNN factory: Attempting to register factory for plugin cuDNN when one has already been registered\n",
      "2023-10-11 19:07:25.080317: E tensorflow/compiler/xla/stream_executor/cuda/cuda_fft.cc:609] Unable to register cuFFT factory: Attempting to register factory for plugin cuFFT when one has already been registered\n",
      "2023-10-11 19:07:25.080653: E tensorflow/compiler/xla/stream_executor/cuda/cuda_blas.cc:1518] Unable to register cuBLAS factory: Attempting to register factory for plugin cuBLAS when one has already been registered\n",
      "2023-10-11 19:07:25.090744: I tensorflow/tsl/cuda/cudart_stub.cc:28] Could not find cuda drivers on your machine, GPU will not be used.\n",
      "2023-10-11 19:07:25.091283: I tensorflow/core/platform/cpu_feature_guard.cc:182] This TensorFlow binary is optimized to use available CPU instructions in performance-critical operations.\n",
      "To enable the following instructions: AVX2 FMA, in other operations, rebuild TensorFlow with the appropriate compiler flags.\n",
      "2023-10-11 19:07:26.171071: W tensorflow/compiler/tf2tensorrt/utils/py_utils.cc:38] TF-TRT Warning: Could not find TensorRT\n"
     ]
    }
   ],
   "source": [
    "from tensorflow.keras.models import Sequential, load_model\n",
    "from tensorflow.keras.layers import Dense\n",
    "from sklearn.metrics import accuracy_score"
   ]
  },
  {
   "cell_type": "markdown",
   "metadata": {},
   "source": [
    "# 2. Build and Compile Model"
   ]
  },
  {
   "cell_type": "code",
   "execution_count": 8,
   "metadata": {},
   "outputs": [],
   "source": [
    "model = Sequential()\n",
    "model.add(Dense(units=32, activation='relu', input_dim=len(X_train.columns)))\n",
    "model.add(Dense(units=64, activation='relu'))\n",
    "model.add(Dense(units=1, activation='sigmoid'))"
   ]
  },
  {
   "cell_type": "code",
   "execution_count": 19,
   "metadata": {},
   "outputs": [],
   "source": [
    "model.compile(loss='binary_crossentropy', optimizer='sgd', metrics='accuracy')"
   ]
  },
  {
   "cell_type": "markdown",
   "metadata": {},
   "source": [
    "# 3. Fit, Predict and Evaluate"
   ]
  },
  {
   "cell_type": "code",
   "execution_count": 20,
   "metadata": {
    "collapsed": true
   },
   "outputs": [
    {
     "name": "stdout",
     "output_type": "stream",
     "text": [
      "Epoch 1/200\n"
     ]
    },
    {
     "name": "stderr",
     "output_type": "stream",
     "text": [
      "2023-10-11 19:24:05.296191: W tensorflow/tsl/framework/cpu_allocator_impl.cc:83] Allocation of 295679720 exceeds 10% of free system memory.\n"
     ]
    },
    {
     "name": "stdout",
     "output_type": "stream",
     "text": [
      "177/177 [==============================] - 1s 3ms/step - loss: 0.4337 - accuracy: 0.7918\n",
      "Epoch 2/200\n",
      "177/177 [==============================] - 0s 2ms/step - loss: 0.4373 - accuracy: 0.7924\n",
      "Epoch 3/200\n",
      "177/177 [==============================] - 0s 2ms/step - loss: 0.4372 - accuracy: 0.7922\n",
      "Epoch 4/200\n",
      "177/177 [==============================] - 0s 3ms/step - loss: 0.4320 - accuracy: 0.7906\n",
      "Epoch 5/200\n",
      "177/177 [==============================] - 0s 2ms/step - loss: 0.4349 - accuracy: 0.7947\n",
      "Epoch 6/200\n",
      "177/177 [==============================] - 0s 2ms/step - loss: 0.4356 - accuracy: 0.7918\n",
      "Epoch 7/200\n",
      "177/177 [==============================] - 0s 2ms/step - loss: 0.4372 - accuracy: 0.7913\n",
      "Epoch 8/200\n",
      "177/177 [==============================] - 0s 2ms/step - loss: 0.4321 - accuracy: 0.7936\n",
      "Epoch 9/200\n",
      "177/177 [==============================] - 0s 2ms/step - loss: 0.4344 - accuracy: 0.7894\n",
      "Epoch 10/200\n",
      "177/177 [==============================] - 0s 2ms/step - loss: 0.4354 - accuracy: 0.7918\n",
      "Epoch 11/200\n",
      "177/177 [==============================] - 0s 2ms/step - loss: 0.4335 - accuracy: 0.7949\n",
      "Epoch 12/200\n",
      "177/177 [==============================] - 0s 2ms/step - loss: 0.4339 - accuracy: 0.7918\n",
      "Epoch 13/200\n",
      "177/177 [==============================] - 0s 2ms/step - loss: 0.4332 - accuracy: 0.7934\n",
      "Epoch 14/200\n",
      "177/177 [==============================] - 0s 2ms/step - loss: 0.4372 - accuracy: 0.7885\n",
      "Epoch 15/200\n",
      "177/177 [==============================] - 0s 2ms/step - loss: 0.4369 - accuracy: 0.7920\n",
      "Epoch 16/200\n",
      "177/177 [==============================] - 0s 2ms/step - loss: 0.4386 - accuracy: 0.7913\n",
      "Epoch 17/200\n",
      "177/177 [==============================] - 0s 2ms/step - loss: 0.4321 - accuracy: 0.7906\n",
      "Epoch 18/200\n",
      "177/177 [==============================] - 0s 2ms/step - loss: 0.4332 - accuracy: 0.7929\n",
      "Epoch 19/200\n",
      "177/177 [==============================] - 0s 2ms/step - loss: 0.4341 - accuracy: 0.7954\n",
      "Epoch 20/200\n",
      "177/177 [==============================] - 0s 2ms/step - loss: 0.4333 - accuracy: 0.7924\n",
      "Epoch 21/200\n",
      "177/177 [==============================] - 0s 2ms/step - loss: 0.4364 - accuracy: 0.7975\n",
      "Epoch 22/200\n",
      "177/177 [==============================] - 0s 2ms/step - loss: 0.4330 - accuracy: 0.7934\n",
      "Epoch 23/200\n",
      "177/177 [==============================] - 0s 2ms/step - loss: 0.4361 - accuracy: 0.7906\n",
      "Epoch 24/200\n",
      "177/177 [==============================] - 0s 2ms/step - loss: 0.4351 - accuracy: 0.7940\n",
      "Epoch 25/200\n",
      "177/177 [==============================] - 0s 2ms/step - loss: 0.4347 - accuracy: 0.7902\n",
      "Epoch 26/200\n",
      "177/177 [==============================] - 0s 2ms/step - loss: 0.4357 - accuracy: 0.7904\n",
      "Epoch 27/200\n",
      "177/177 [==============================] - 0s 2ms/step - loss: 0.4324 - accuracy: 0.7961\n",
      "Epoch 28/200\n",
      "177/177 [==============================] - 0s 3ms/step - loss: 0.4356 - accuracy: 0.7995\n",
      "Epoch 29/200\n",
      "177/177 [==============================] - 0s 2ms/step - loss: 0.4340 - accuracy: 0.7933\n",
      "Epoch 30/200\n",
      "177/177 [==============================] - 0s 2ms/step - loss: 0.4336 - accuracy: 0.7956\n",
      "Epoch 31/200\n",
      "177/177 [==============================] - 0s 2ms/step - loss: 0.4321 - accuracy: 0.7954\n",
      "Epoch 32/200\n",
      "177/177 [==============================] - 0s 2ms/step - loss: 0.4344 - accuracy: 0.7917\n",
      "Epoch 33/200\n",
      "177/177 [==============================] - 0s 2ms/step - loss: 0.4331 - accuracy: 0.7986\n",
      "Epoch 34/200\n",
      "177/177 [==============================] - 0s 2ms/step - loss: 0.4343 - accuracy: 0.7957\n",
      "Epoch 35/200\n",
      "177/177 [==============================] - 0s 2ms/step - loss: 0.4322 - accuracy: 0.7938\n",
      "Epoch 36/200\n",
      "177/177 [==============================] - 0s 2ms/step - loss: 0.4381 - accuracy: 0.7869\n",
      "Epoch 37/200\n",
      "177/177 [==============================] - 0s 2ms/step - loss: 0.4327 - accuracy: 0.7924\n",
      "Epoch 38/200\n",
      "177/177 [==============================] - 0s 2ms/step - loss: 0.4325 - accuracy: 0.7957\n",
      "Epoch 39/200\n",
      "177/177 [==============================] - 0s 2ms/step - loss: 0.4330 - accuracy: 0.7925\n",
      "Epoch 40/200\n",
      "177/177 [==============================] - 0s 2ms/step - loss: 0.4336 - accuracy: 0.7931\n",
      "Epoch 41/200\n",
      "177/177 [==============================] - 0s 2ms/step - loss: 0.4350 - accuracy: 0.7941\n",
      "Epoch 42/200\n",
      "177/177 [==============================] - 0s 2ms/step - loss: 0.4319 - accuracy: 0.7980\n",
      "Epoch 43/200\n",
      "177/177 [==============================] - 0s 2ms/step - loss: 0.4316 - accuracy: 0.7980\n",
      "Epoch 44/200\n",
      "177/177 [==============================] - 0s 2ms/step - loss: 0.4299 - accuracy: 0.7959\n",
      "Epoch 45/200\n",
      "177/177 [==============================] - 0s 2ms/step - loss: 0.4317 - accuracy: 0.7918\n",
      "Epoch 46/200\n",
      "177/177 [==============================] - 0s 2ms/step - loss: 0.4319 - accuracy: 0.7957\n",
      "Epoch 47/200\n",
      "177/177 [==============================] - 0s 2ms/step - loss: 0.4365 - accuracy: 0.7892\n",
      "Epoch 48/200\n",
      "177/177 [==============================] - 0s 2ms/step - loss: 0.4313 - accuracy: 0.7979\n",
      "Epoch 49/200\n",
      "177/177 [==============================] - 0s 2ms/step - loss: 0.4337 - accuracy: 0.7956\n",
      "Epoch 50/200\n",
      "177/177 [==============================] - 0s 2ms/step - loss: 0.4335 - accuracy: 0.7973\n",
      "Epoch 51/200\n",
      "177/177 [==============================] - 0s 2ms/step - loss: 0.4313 - accuracy: 0.7938\n",
      "Epoch 52/200\n",
      "177/177 [==============================] - 0s 2ms/step - loss: 0.4299 - accuracy: 0.7968\n",
      "Epoch 53/200\n",
      "177/177 [==============================] - 0s 2ms/step - loss: 0.4287 - accuracy: 0.7917\n",
      "Epoch 54/200\n",
      "177/177 [==============================] - 0s 2ms/step - loss: 0.4317 - accuracy: 0.7929\n",
      "Epoch 55/200\n",
      "177/177 [==============================] - 0s 3ms/step - loss: 0.4326 - accuracy: 0.7929\n",
      "Epoch 56/200\n",
      "177/177 [==============================] - 0s 2ms/step - loss: 0.4323 - accuracy: 0.7940\n",
      "Epoch 57/200\n",
      "177/177 [==============================] - 0s 2ms/step - loss: 0.4306 - accuracy: 0.7945\n",
      "Epoch 58/200\n",
      "177/177 [==============================] - 0s 2ms/step - loss: 0.4312 - accuracy: 0.7933\n",
      "Epoch 59/200\n",
      "177/177 [==============================] - 0s 2ms/step - loss: 0.4336 - accuracy: 0.7892\n",
      "Epoch 60/200\n",
      "177/177 [==============================] - 0s 3ms/step - loss: 0.4284 - accuracy: 0.7943\n",
      "Epoch 61/200\n",
      "177/177 [==============================] - 0s 2ms/step - loss: 0.4289 - accuracy: 0.7922\n",
      "Epoch 62/200\n",
      "177/177 [==============================] - 0s 2ms/step - loss: 0.4288 - accuracy: 0.7970\n",
      "Epoch 63/200\n",
      "177/177 [==============================] - 0s 2ms/step - loss: 0.4305 - accuracy: 0.7947\n",
      "Epoch 64/200\n",
      "177/177 [==============================] - 0s 2ms/step - loss: 0.4316 - accuracy: 0.7959\n",
      "Epoch 65/200\n",
      "177/177 [==============================] - 0s 2ms/step - loss: 0.4306 - accuracy: 0.7963\n",
      "Epoch 66/200\n",
      "177/177 [==============================] - 0s 2ms/step - loss: 0.4331 - accuracy: 0.7929\n",
      "Epoch 67/200\n",
      "177/177 [==============================] - 0s 2ms/step - loss: 0.4296 - accuracy: 0.7998\n",
      "Epoch 68/200\n",
      "177/177 [==============================] - 0s 2ms/step - loss: 0.4306 - accuracy: 0.7957\n",
      "Epoch 69/200\n",
      "177/177 [==============================] - 0s 2ms/step - loss: 0.4279 - accuracy: 0.7941\n",
      "Epoch 70/200\n",
      "177/177 [==============================] - 0s 2ms/step - loss: 0.4292 - accuracy: 0.7929\n",
      "Epoch 71/200\n",
      "177/177 [==============================] - 0s 2ms/step - loss: 0.4326 - accuracy: 0.7909\n",
      "Epoch 72/200\n",
      "177/177 [==============================] - 0s 2ms/step - loss: 0.4299 - accuracy: 0.7980\n",
      "Epoch 73/200\n",
      "177/177 [==============================] - 0s 3ms/step - loss: 0.4281 - accuracy: 0.7973\n",
      "Epoch 74/200\n",
      "177/177 [==============================] - 0s 2ms/step - loss: 0.4276 - accuracy: 0.7982\n",
      "Epoch 75/200\n",
      "177/177 [==============================] - 0s 2ms/step - loss: 0.4310 - accuracy: 0.7950\n",
      "Epoch 76/200\n",
      "177/177 [==============================] - 0s 2ms/step - loss: 0.4292 - accuracy: 0.7965\n",
      "Epoch 77/200\n",
      "177/177 [==============================] - 0s 2ms/step - loss: 0.4305 - accuracy: 0.7968\n",
      "Epoch 78/200\n",
      "177/177 [==============================] - 0s 2ms/step - loss: 0.4320 - accuracy: 0.7968\n",
      "Epoch 79/200\n",
      "177/177 [==============================] - 0s 2ms/step - loss: 0.4296 - accuracy: 0.7961\n",
      "Epoch 80/200\n",
      "177/177 [==============================] - 0s 2ms/step - loss: 0.4322 - accuracy: 0.7904\n",
      "Epoch 81/200\n",
      "177/177 [==============================] - 0s 2ms/step - loss: 0.4282 - accuracy: 0.7966\n",
      "Epoch 82/200\n",
      "177/177 [==============================] - 0s 3ms/step - loss: 0.4290 - accuracy: 0.7957\n",
      "Epoch 83/200\n",
      "177/177 [==============================] - 0s 2ms/step - loss: 0.4295 - accuracy: 0.7996\n",
      "Epoch 84/200\n",
      "177/177 [==============================] - 0s 2ms/step - loss: 0.4315 - accuracy: 0.7925\n",
      "Epoch 85/200\n",
      "177/177 [==============================] - 0s 2ms/step - loss: 0.4296 - accuracy: 0.7961\n",
      "Epoch 86/200\n",
      "177/177 [==============================] - 0s 2ms/step - loss: 0.4304 - accuracy: 0.7961\n",
      "Epoch 87/200\n",
      "177/177 [==============================] - 0s 3ms/step - loss: 0.4279 - accuracy: 0.7941\n",
      "Epoch 88/200\n",
      "177/177 [==============================] - 0s 2ms/step - loss: 0.4344 - accuracy: 0.7913\n",
      "Epoch 89/200\n",
      "177/177 [==============================] - 0s 2ms/step - loss: 0.4278 - accuracy: 0.7950\n",
      "Epoch 90/200\n",
      "177/177 [==============================] - 0s 2ms/step - loss: 0.4283 - accuracy: 0.7989\n",
      "Epoch 91/200\n",
      "177/177 [==============================] - 0s 2ms/step - loss: 0.4355 - accuracy: 0.7927\n",
      "Epoch 92/200\n",
      "177/177 [==============================] - 0s 2ms/step - loss: 0.4300 - accuracy: 0.7968\n",
      "Epoch 93/200\n",
      "177/177 [==============================] - 0s 2ms/step - loss: 0.4290 - accuracy: 0.7947\n",
      "Epoch 94/200\n",
      "177/177 [==============================] - 0s 2ms/step - loss: 0.4310 - accuracy: 0.8014\n",
      "Epoch 95/200\n",
      "177/177 [==============================] - 0s 2ms/step - loss: 0.4314 - accuracy: 0.7956\n",
      "Epoch 96/200\n",
      "177/177 [==============================] - 0s 2ms/step - loss: 0.4307 - accuracy: 0.7959\n",
      "Epoch 97/200\n",
      "177/177 [==============================] - 0s 2ms/step - loss: 0.4316 - accuracy: 0.7936\n",
      "Epoch 98/200\n",
      "177/177 [==============================] - 0s 2ms/step - loss: 0.4303 - accuracy: 0.7952\n",
      "Epoch 99/200\n",
      "177/177 [==============================] - 0s 2ms/step - loss: 0.4295 - accuracy: 0.7940\n",
      "Epoch 100/200\n",
      "177/177 [==============================] - 0s 2ms/step - loss: 0.4307 - accuracy: 0.7957\n",
      "Epoch 101/200\n",
      "177/177 [==============================] - 0s 3ms/step - loss: 0.4325 - accuracy: 0.7894\n",
      "Epoch 102/200\n",
      "177/177 [==============================] - 0s 2ms/step - loss: 0.4284 - accuracy: 0.7977\n",
      "Epoch 103/200\n",
      "177/177 [==============================] - 0s 2ms/step - loss: 0.4277 - accuracy: 0.7945\n",
      "Epoch 104/200\n",
      "177/177 [==============================] - 0s 2ms/step - loss: 0.4318 - accuracy: 0.7936\n",
      "Epoch 105/200\n",
      "177/177 [==============================] - 0s 2ms/step - loss: 0.4277 - accuracy: 0.7961\n",
      "Epoch 106/200\n",
      "177/177 [==============================] - 0s 2ms/step - loss: 0.4311 - accuracy: 0.7943\n",
      "Epoch 107/200\n",
      "177/177 [==============================] - 0s 2ms/step - loss: 0.4282 - accuracy: 0.7968\n",
      "Epoch 108/200\n",
      "177/177 [==============================] - 0s 2ms/step - loss: 0.4285 - accuracy: 0.7941\n",
      "Epoch 109/200\n",
      "177/177 [==============================] - 1s 3ms/step - loss: 0.4286 - accuracy: 0.7970\n",
      "Epoch 110/200\n",
      "177/177 [==============================] - 0s 2ms/step - loss: 0.4284 - accuracy: 0.7957\n",
      "Epoch 111/200\n",
      "177/177 [==============================] - 0s 2ms/step - loss: 0.4304 - accuracy: 0.7954\n",
      "Epoch 112/200\n",
      "177/177 [==============================] - 0s 2ms/step - loss: 0.4281 - accuracy: 0.7961\n",
      "Epoch 113/200\n",
      "177/177 [==============================] - 0s 2ms/step - loss: 0.4263 - accuracy: 0.7993\n",
      "Epoch 114/200\n",
      "177/177 [==============================] - 0s 2ms/step - loss: 0.4296 - accuracy: 0.7965\n",
      "Epoch 115/200\n",
      "177/177 [==============================] - 0s 2ms/step - loss: 0.4281 - accuracy: 0.7954\n",
      "Epoch 116/200\n",
      "177/177 [==============================] - 0s 2ms/step - loss: 0.4249 - accuracy: 0.8009\n",
      "Epoch 117/200\n",
      "177/177 [==============================] - 0s 2ms/step - loss: 0.4278 - accuracy: 0.7975\n",
      "Epoch 118/200\n",
      "177/177 [==============================] - 0s 2ms/step - loss: 0.4236 - accuracy: 0.8004\n",
      "Epoch 119/200\n",
      "177/177 [==============================] - 0s 2ms/step - loss: 0.4276 - accuracy: 0.7989\n",
      "Epoch 120/200\n",
      "177/177 [==============================] - 0s 2ms/step - loss: 0.4315 - accuracy: 0.7943\n",
      "Epoch 121/200\n",
      "177/177 [==============================] - 0s 2ms/step - loss: 0.4272 - accuracy: 0.7959\n",
      "Epoch 122/200\n",
      "177/177 [==============================] - 0s 2ms/step - loss: 0.4269 - accuracy: 0.7965\n",
      "Epoch 123/200\n",
      "177/177 [==============================] - 0s 2ms/step - loss: 0.4277 - accuracy: 0.8005\n",
      "Epoch 124/200\n",
      "177/177 [==============================] - 0s 2ms/step - loss: 0.4322 - accuracy: 0.7924\n",
      "Epoch 125/200\n",
      "177/177 [==============================] - 0s 2ms/step - loss: 0.4283 - accuracy: 0.7972\n",
      "Epoch 126/200\n",
      "177/177 [==============================] - 0s 2ms/step - loss: 0.4275 - accuracy: 0.7954\n",
      "Epoch 127/200\n",
      "177/177 [==============================] - 0s 2ms/step - loss: 0.4292 - accuracy: 0.8011\n",
      "Epoch 128/200\n",
      "177/177 [==============================] - 0s 2ms/step - loss: 0.4304 - accuracy: 0.7920\n",
      "Epoch 129/200\n",
      "177/177 [==============================] - 0s 2ms/step - loss: 0.4282 - accuracy: 0.7991\n",
      "Epoch 130/200\n",
      "177/177 [==============================] - 0s 2ms/step - loss: 0.4262 - accuracy: 0.7996\n",
      "Epoch 131/200\n",
      "177/177 [==============================] - 0s 2ms/step - loss: 0.4284 - accuracy: 0.7957\n",
      "Epoch 132/200\n",
      "177/177 [==============================] - 0s 2ms/step - loss: 0.4278 - accuracy: 0.7940\n",
      "Epoch 133/200\n",
      "177/177 [==============================] - 0s 2ms/step - loss: 0.4309 - accuracy: 0.7966\n",
      "Epoch 134/200\n",
      "177/177 [==============================] - 0s 2ms/step - loss: 0.4261 - accuracy: 0.7973\n",
      "Epoch 135/200\n",
      "177/177 [==============================] - 0s 2ms/step - loss: 0.4244 - accuracy: 0.7995\n",
      "Epoch 136/200\n",
      "177/177 [==============================] - 0s 3ms/step - loss: 0.4276 - accuracy: 0.7968\n",
      "Epoch 137/200\n",
      "177/177 [==============================] - 0s 2ms/step - loss: 0.4285 - accuracy: 0.7929\n",
      "Epoch 138/200\n",
      "177/177 [==============================] - 0s 2ms/step - loss: 0.4274 - accuracy: 0.7988\n",
      "Epoch 139/200\n",
      "177/177 [==============================] - 0s 2ms/step - loss: 0.4249 - accuracy: 0.7957\n",
      "Epoch 140/200\n",
      "177/177 [==============================] - 0s 2ms/step - loss: 0.4254 - accuracy: 0.7980\n",
      "Epoch 141/200\n",
      "177/177 [==============================] - 0s 2ms/step - loss: 0.4278 - accuracy: 0.7965\n",
      "Epoch 142/200\n",
      "177/177 [==============================] - 0s 2ms/step - loss: 0.4258 - accuracy: 0.7980\n",
      "Epoch 143/200\n",
      "177/177 [==============================] - 0s 2ms/step - loss: 0.4264 - accuracy: 0.7982\n",
      "Epoch 144/200\n",
      "177/177 [==============================] - 0s 2ms/step - loss: 0.4320 - accuracy: 0.7927\n",
      "Epoch 145/200\n",
      "177/177 [==============================] - 0s 2ms/step - loss: 0.4254 - accuracy: 0.7943\n",
      "Epoch 146/200\n",
      "177/177 [==============================] - 0s 2ms/step - loss: 0.4253 - accuracy: 0.7934\n",
      "Epoch 147/200\n",
      "177/177 [==============================] - 0s 2ms/step - loss: 0.4260 - accuracy: 0.7973\n",
      "Epoch 148/200\n",
      "177/177 [==============================] - 0s 2ms/step - loss: 0.4277 - accuracy: 0.7963\n",
      "Epoch 149/200\n",
      "177/177 [==============================] - 0s 2ms/step - loss: 0.4249 - accuracy: 0.8005\n",
      "Epoch 150/200\n",
      "177/177 [==============================] - 0s 2ms/step - loss: 0.4251 - accuracy: 0.7949\n",
      "Epoch 151/200\n",
      "177/177 [==============================] - 0s 2ms/step - loss: 0.4249 - accuracy: 0.7984\n",
      "Epoch 152/200\n",
      "177/177 [==============================] - 0s 2ms/step - loss: 0.4268 - accuracy: 0.7970\n",
      "Epoch 153/200\n",
      "177/177 [==============================] - 0s 2ms/step - loss: 0.4267 - accuracy: 0.7963\n",
      "Epoch 154/200\n",
      "177/177 [==============================] - 0s 2ms/step - loss: 0.4283 - accuracy: 0.7996\n",
      "Epoch 155/200\n",
      "177/177 [==============================] - 0s 2ms/step - loss: 0.4281 - accuracy: 0.7965\n",
      "Epoch 156/200\n",
      "177/177 [==============================] - 0s 2ms/step - loss: 0.4313 - accuracy: 0.7945\n",
      "Epoch 157/200\n",
      "177/177 [==============================] - 0s 2ms/step - loss: 0.4258 - accuracy: 0.7968\n",
      "Epoch 158/200\n",
      "177/177 [==============================] - 0s 2ms/step - loss: 0.4268 - accuracy: 0.7959\n",
      "Epoch 159/200\n",
      "177/177 [==============================] - 0s 2ms/step - loss: 0.4262 - accuracy: 0.7943\n",
      "Epoch 160/200\n",
      "177/177 [==============================] - 0s 2ms/step - loss: 0.4245 - accuracy: 0.8004\n",
      "Epoch 161/200\n",
      "177/177 [==============================] - 0s 2ms/step - loss: 0.4273 - accuracy: 0.7911\n",
      "Epoch 162/200\n",
      "177/177 [==============================] - 0s 3ms/step - loss: 0.4245 - accuracy: 0.7995\n",
      "Epoch 163/200\n",
      "177/177 [==============================] - 0s 2ms/step - loss: 0.4242 - accuracy: 0.7980\n",
      "Epoch 164/200\n",
      "177/177 [==============================] - 0s 2ms/step - loss: 0.4241 - accuracy: 0.8000\n",
      "Epoch 165/200\n",
      "177/177 [==============================] - 0s 2ms/step - loss: 0.4274 - accuracy: 0.7984\n",
      "Epoch 166/200\n",
      "177/177 [==============================] - 0s 2ms/step - loss: 0.4288 - accuracy: 0.7911\n",
      "Epoch 167/200\n",
      "177/177 [==============================] - 0s 2ms/step - loss: 0.4241 - accuracy: 0.7988\n",
      "Epoch 168/200\n",
      "177/177 [==============================] - 0s 2ms/step - loss: 0.4282 - accuracy: 0.7915\n",
      "Epoch 169/200\n",
      "177/177 [==============================] - 0s 2ms/step - loss: 0.4274 - accuracy: 0.7952\n",
      "Epoch 170/200\n",
      "177/177 [==============================] - 0s 2ms/step - loss: 0.4261 - accuracy: 0.7950\n",
      "Epoch 171/200\n",
      "177/177 [==============================] - 0s 2ms/step - loss: 0.4266 - accuracy: 0.7973\n",
      "Epoch 172/200\n",
      "177/177 [==============================] - 0s 2ms/step - loss: 0.4242 - accuracy: 0.8002\n",
      "Epoch 173/200\n",
      "177/177 [==============================] - 0s 2ms/step - loss: 0.4252 - accuracy: 0.7986\n",
      "Epoch 174/200\n",
      "177/177 [==============================] - 0s 2ms/step - loss: 0.4258 - accuracy: 0.7965\n",
      "Epoch 175/200\n",
      "177/177 [==============================] - 0s 2ms/step - loss: 0.4254 - accuracy: 0.7998\n",
      "Epoch 176/200\n",
      "177/177 [==============================] - 0s 2ms/step - loss: 0.4252 - accuracy: 0.7986\n",
      "Epoch 177/200\n",
      "177/177 [==============================] - 0s 2ms/step - loss: 0.4315 - accuracy: 0.7929\n",
      "Epoch 178/200\n",
      "177/177 [==============================] - 0s 2ms/step - loss: 0.4260 - accuracy: 0.7989\n",
      "Epoch 179/200\n",
      "177/177 [==============================] - 0s 2ms/step - loss: 0.4283 - accuracy: 0.7982\n",
      "Epoch 180/200\n",
      "177/177 [==============================] - 0s 2ms/step - loss: 0.4246 - accuracy: 0.7973\n",
      "Epoch 181/200\n",
      "177/177 [==============================] - 0s 2ms/step - loss: 0.4269 - accuracy: 0.7982\n",
      "Epoch 182/200\n",
      "177/177 [==============================] - 0s 2ms/step - loss: 0.4280 - accuracy: 0.7931\n",
      "Epoch 183/200\n",
      "177/177 [==============================] - 0s 2ms/step - loss: 0.4280 - accuracy: 0.7970\n",
      "Epoch 184/200\n",
      "177/177 [==============================] - 0s 2ms/step - loss: 0.4272 - accuracy: 0.7980\n",
      "Epoch 185/200\n",
      "177/177 [==============================] - 0s 2ms/step - loss: 0.4249 - accuracy: 0.7970\n",
      "Epoch 186/200\n",
      "177/177 [==============================] - 0s 2ms/step - loss: 0.4253 - accuracy: 0.7954\n",
      "Epoch 187/200\n",
      "177/177 [==============================] - 0s 2ms/step - loss: 0.4253 - accuracy: 0.7998\n",
      "Epoch 188/200\n",
      "177/177 [==============================] - 0s 2ms/step - loss: 0.4250 - accuracy: 0.7934\n",
      "Epoch 189/200\n",
      "177/177 [==============================] - 0s 2ms/step - loss: 0.4252 - accuracy: 0.7993\n",
      "Epoch 190/200\n",
      "177/177 [==============================] - 0s 3ms/step - loss: 0.4257 - accuracy: 0.7972\n",
      "Epoch 191/200\n",
      "177/177 [==============================] - 0s 2ms/step - loss: 0.4240 - accuracy: 0.8007\n",
      "Epoch 192/200\n",
      "177/177 [==============================] - 0s 2ms/step - loss: 0.4243 - accuracy: 0.7965\n",
      "Epoch 193/200\n",
      "177/177 [==============================] - 0s 2ms/step - loss: 0.4254 - accuracy: 0.7972\n",
      "Epoch 194/200\n",
      "177/177 [==============================] - 0s 2ms/step - loss: 0.4234 - accuracy: 0.7982\n",
      "Epoch 195/200\n",
      "177/177 [==============================] - 0s 2ms/step - loss: 0.4231 - accuracy: 0.7938\n",
      "Epoch 196/200\n",
      "177/177 [==============================] - 0s 2ms/step - loss: 0.4258 - accuracy: 0.7924\n",
      "Epoch 197/200\n",
      "177/177 [==============================] - 0s 2ms/step - loss: 0.4272 - accuracy: 0.7947\n",
      "Epoch 198/200\n",
      "177/177 [==============================] - 0s 2ms/step - loss: 0.4255 - accuracy: 0.7954\n",
      "Epoch 199/200\n",
      "177/177 [==============================] - 0s 2ms/step - loss: 0.4244 - accuracy: 0.7949\n",
      "Epoch 200/200\n",
      "177/177 [==============================] - 0s 2ms/step - loss: 0.4247 - accuracy: 0.7956\n"
     ]
    },
    {
     "data": {
      "text/plain": [
       "<keras.src.callbacks.History at 0x7fe643a83850>"
      ]
     },
     "execution_count": 20,
     "metadata": {},
     "output_type": "execute_result"
    }
   ],
   "source": [
    "model.fit(X_train, y_train, epochs=200, batch_size=32)"
   ]
  },
  {
   "cell_type": "code",
   "execution_count": 11,
   "metadata": {},
   "outputs": [
    {
     "name": "stdout",
     "output_type": "stream",
     "text": [
      "45/45 [==============================] - 0s 1ms/step\n"
     ]
    },
    {
     "name": "stderr",
     "output_type": "stream",
     "text": [
      "2023-10-11 19:09:50.141031: W tensorflow/tsl/framework/cpu_allocator_impl.cc:83] Allocation of 73933048 exceeds 10% of free system memory.\n"
     ]
    }
   ],
   "source": [
    "y_hat = model.predict(X_test)\n",
    "y_hat = [0 if val < 0.5 else 1 for val in y_hat]"
   ]
  },
  {
   "cell_type": "code",
   "execution_count": 16,
   "metadata": {},
   "outputs": [
    {
     "data": {
      "text/plain": [
       "0.6388140161725067"
      ]
     },
     "execution_count": 16,
     "metadata": {},
     "output_type": "execute_result"
    }
   ],
   "source": [
    "from sklearn.metrics import f1_score\n",
    "f1_score(y_test, y_hat)"
   ]
  },
  {
   "cell_type": "code",
   "execution_count": 12,
   "metadata": {},
   "outputs": [
    {
     "data": {
      "text/plain": [
       "0.8097941802696949"
      ]
     },
     "execution_count": 12,
     "metadata": {},
     "output_type": "execute_result"
    }
   ],
   "source": [
    "accuracy_score(y_test, y_hat)\n"
   ]
  },
  {
   "cell_type": "markdown",
   "metadata": {},
   "source": [
    "# 4. Saving and Reloading"
   ]
  },
  {
   "cell_type": "code",
   "execution_count": 13,
   "metadata": {
    "collapsed": true
   },
   "outputs": [
    {
     "name": "stdout",
     "output_type": "stream",
     "text": [
      "INFO:tensorflow:Assets written to: tfmodel/assets\n"
     ]
    },
    {
     "name": "stderr",
     "output_type": "stream",
     "text": [
      "INFO:tensorflow:Assets written to: tfmodel/assets\n"
     ]
    }
   ],
   "source": [
    "model.save('tfmodel')"
   ]
  },
  {
   "cell_type": "code",
   "execution_count": 14,
   "metadata": {},
   "outputs": [],
   "source": [
    "del model "
   ]
  },
  {
   "cell_type": "code",
   "execution_count": 15,
   "metadata": {},
   "outputs": [],
   "source": [
    "model = load_model('tfmodel')"
   ]
  },
  {
   "cell_type": "markdown",
   "metadata": {},
   "source": [
    "## 5. Create new models "
   ]
  },
  {
   "cell_type": "code",
   "execution_count": 23,
   "metadata": {},
   "outputs": [],
   "source": [
    "import tensorflow as tf"
   ]
  },
  {
   "cell_type": "code",
   "execution_count": 24,
   "metadata": {},
   "outputs": [
    {
     "name": "stdout",
     "output_type": "stream",
     "text": [
      "TensorFlow **IS NOT** using the GPU\n"
     ]
    }
   ],
   "source": [
    "if tf.config.list_physical_devices('GPU'):\n",
    "  print(\"TensorFlow **IS** using the GPU\")\n",
    "else:\n",
    "  print(\"TensorFlow **IS NOT** using the GPU\")"
   ]
  },
  {
   "cell_type": "code",
   "execution_count": 25,
   "metadata": {},
   "outputs": [
    {
     "name": "stdout",
     "output_type": "stream",
     "text": [
      "tf.Tensor(\n",
      "[[1. 2. 3.]\n",
      " [4. 5. 6.]], shape=(2, 3), dtype=float32)\n",
      "(2, 3)\n",
      "<dtype: 'float32'>\n"
     ]
    }
   ],
   "source": [
    "x = tf.constant([[1., 2., 3.],\n",
    "                 [4., 5., 6.]])\n",
    "\n",
    "print(x)\n",
    "print(x.shape)\n",
    "print(x.dtype)"
   ]
  },
  {
   "cell_type": "code",
   "execution_count": 26,
   "metadata": {},
   "outputs": [
    {
     "data": {
      "text/plain": [
       "<tf.Tensor: shape=(2, 3), dtype=float32, numpy=\n",
       "array([[ 2.,  4.,  6.],\n",
       "       [ 8., 10., 12.]], dtype=float32)>"
      ]
     },
     "execution_count": 26,
     "metadata": {},
     "output_type": "execute_result"
    }
   ],
   "source": [
    "x+x"
   ]
  },
  {
   "cell_type": "code",
   "execution_count": 27,
   "metadata": {},
   "outputs": [
    {
     "data": {
      "text/plain": [
       "<tf.Tensor: shape=(2, 2), dtype=float32, numpy=\n",
       "array([[14., 32.],\n",
       "       [32., 77.]], dtype=float32)>"
      ]
     },
     "execution_count": 27,
     "metadata": {},
     "output_type": "execute_result"
    }
   ],
   "source": [
    "x @ tf.transpose(x)"
   ]
  },
  {
   "cell_type": "code",
   "execution_count": 28,
   "metadata": {},
   "outputs": [],
   "source": [
    "y = tf.constant([[1., 1., 1.],\n",
    "                 [1.,1.,1.]])"
   ]
  },
  {
   "cell_type": "code",
   "execution_count": 31,
   "metadata": {},
   "outputs": [
    {
     "data": {
      "text/plain": [
       "<tf.Tensor: shape=(2, 2), dtype=float32, numpy=\n",
       "array([[3., 3.],\n",
       "       [3., 3.]], dtype=float32)>"
      ]
     },
     "execution_count": 31,
     "metadata": {},
     "output_type": "execute_result"
    }
   ],
   "source": [
    "y@tf.transpose(y)"
   ]
  },
  {
   "cell_type": "code",
   "execution_count": 32,
   "metadata": {},
   "outputs": [
    {
     "data": {
      "text/plain": [
       "<tf.Tensor: shape=(2, 3), dtype=float32, numpy=\n",
       "array([[0.09003057, 0.24472848, 0.66524094],\n",
       "       [0.09003057, 0.24472848, 0.66524094]], dtype=float32)>"
      ]
     },
     "execution_count": 32,
     "metadata": {},
     "output_type": "execute_result"
    }
   ],
   "source": [
    "tf.nn.softmax(x, axis=-1)"
   ]
  },
  {
   "cell_type": "code",
   "execution_count": 36,
   "metadata": {},
   "outputs": [
    {
     "data": {
      "text/plain": [
       "<tf.Variable 'Variable:0' shape=() dtype=float32, numpy=1.0>"
      ]
     },
     "execution_count": 36,
     "metadata": {},
     "output_type": "execute_result"
    }
   ],
   "source": [
    "x = tf.Variable(1.0)\n",
    "x"
   ]
  },
  {
   "cell_type": "code",
   "execution_count": 37,
   "metadata": {},
   "outputs": [
    {
     "name": "stdout",
     "output_type": "stream",
     "text": [
      "tf.Tensor(7.0, shape=(), dtype=float32)\n"
     ]
    }
   ],
   "source": [
    "def f(x):\n",
    "    y = x**2 + 2*x + 4\n",
    "    return y\n",
    "print(f(x))"
   ]
  },
  {
   "cell_type": "code",
   "execution_count": 38,
   "metadata": {},
   "outputs": [
    {
     "data": {
      "text/plain": [
       "<tf.Tensor: shape=(), dtype=float32, numpy=4.0>"
      ]
     },
     "execution_count": 38,
     "metadata": {},
     "output_type": "execute_result"
    }
   ],
   "source": [
    "with tf.GradientTape() as tape:\n",
    "  y = f(x)\n",
    "  \n",
    "\n",
    "g_x = tape.gradient(y, x)  # g(x) = dy/dx\n",
    "g_x"
   ]
  },
  {
   "cell_type": "code",
   "execution_count": 39,
   "metadata": {},
   "outputs": [],
   "source": [
    "@tf.function\n",
    "def my_func(x):\n",
    "  print('Tracing.\\n')\n",
    "  return tf.reduce_sum(x)"
   ]
  },
  {
   "cell_type": "code",
   "execution_count": 40,
   "metadata": {},
   "outputs": [
    {
     "name": "stdout",
     "output_type": "stream",
     "text": [
      "Tracing.\n",
      "\n"
     ]
    },
    {
     "data": {
      "text/plain": [
       "<tf.Tensor: shape=(), dtype=int32, numpy=6>"
      ]
     },
     "execution_count": 40,
     "metadata": {},
     "output_type": "execute_result"
    }
   ],
   "source": [
    "x = tf.constant([1, 2, 3])\n",
    "my_func(x)"
   ]
  },
  {
   "cell_type": "code",
   "execution_count": 41,
   "metadata": {},
   "outputs": [
    {
     "data": {
      "text/plain": [
       "<tf.Tensor: shape=(), dtype=int32, numpy=27>"
      ]
     },
     "execution_count": 41,
     "metadata": {},
     "output_type": "execute_result"
    }
   ],
   "source": [
    "x = tf.constant([10, 9, 8])\n",
    "my_func(x)"
   ]
  },
  {
   "cell_type": "code",
   "execution_count": 42,
   "metadata": {},
   "outputs": [
    {
     "name": "stdout",
     "output_type": "stream",
     "text": [
      "Tracing.\n",
      "\n"
     ]
    },
    {
     "data": {
      "text/plain": [
       "<tf.Tensor: shape=(), dtype=float32, numpy=27.3>"
      ]
     },
     "execution_count": 42,
     "metadata": {},
     "output_type": "execute_result"
    }
   ],
   "source": [
    "x = tf.constant([10.0, 9.1, 8.2], dtype=tf.float32)\n",
    "my_func(x)"
   ]
  },
  {
   "cell_type": "code",
   "execution_count": null,
   "metadata": {},
   "outputs": [],
   "source": []
  },
  {
   "cell_type": "code",
   "execution_count": null,
   "metadata": {},
   "outputs": [],
   "source": []
  },
  {
   "cell_type": "code",
   "execution_count": null,
   "metadata": {},
   "outputs": [],
   "source": []
  },
  {
   "cell_type": "code",
   "execution_count": null,
   "metadata": {},
   "outputs": [],
   "source": []
  },
  {
   "cell_type": "code",
   "execution_count": null,
   "metadata": {},
   "outputs": [],
   "source": []
  },
  {
   "cell_type": "code",
   "execution_count": null,
   "metadata": {},
   "outputs": [],
   "source": []
  },
  {
   "cell_type": "code",
   "execution_count": null,
   "metadata": {},
   "outputs": [],
   "source": []
  },
  {
   "cell_type": "code",
   "execution_count": null,
   "metadata": {},
   "outputs": [],
   "source": []
  },
  {
   "cell_type": "code",
   "execution_count": null,
   "metadata": {},
   "outputs": [],
   "source": []
  }
 ],
 "metadata": {
  "kernelspec": {
   "display_name": "Python 3",
   "language": "python",
   "name": "python3"
  },
  "language_info": {
   "codemirror_mode": {
    "name": "ipython",
    "version": 3
   },
   "file_extension": ".py",
   "mimetype": "text/x-python",
   "name": "python",
   "nbconvert_exporter": "python",
   "pygments_lexer": "ipython3",
   "version": "3.10.8"
  }
 },
 "nbformat": 4,
 "nbformat_minor": 2
}
